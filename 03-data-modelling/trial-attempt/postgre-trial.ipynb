{
 "cells": [
  {
   "cell_type": "markdown",
   "id": "ad19d091",
   "metadata": {},
   "source": [
    "# Data Modelling with PostgreSQL"
   ]
  },
  {
   "cell_type": "markdown",
   "id": "82d4c17f",
   "metadata": {},
   "source": [
    "## Import libs"
   ]
  },
  {
   "cell_type": "code",
   "execution_count": 1,
   "id": "261f8cef",
   "metadata": {},
   "outputs": [],
   "source": [
    "import os\n",
    "import psycopg2"
   ]
  },
  {
   "cell_type": "markdown",
   "id": "3e2d3ad9",
   "metadata": {},
   "source": [
    "## Create connection to db"
   ]
  },
  {
   "cell_type": "code",
   "execution_count": 2,
   "id": "ec875902",
   "metadata": {},
   "outputs": [],
   "source": [
    "HOST = \"127.0.0.1\"\n",
    "USER = \"postgres\"\n",
    "PASSWORD = \"naufalaldy23\""
   ]
  },
  {
   "cell_type": "code",
   "execution_count": 31,
   "id": "86ba6825",
   "metadata": {},
   "outputs": [],
   "source": [
    "try:\n",
    "    conn = psycopg2.connect(\"host={} user={} password={}\".format(HOST, USER, PASSWORD))\n",
    "except psycopg2.Error as e:\n",
    "    print(\"Error: Could'nt make connection to postgres db\")\n",
    "    print(e)"
   ]
  },
  {
   "cell_type": "markdown",
   "id": "c7839c83",
   "metadata": {},
   "source": [
    "## Use the connection to get a cursor"
   ]
  },
  {
   "cell_type": "code",
   "execution_count": 24,
   "id": "c6bfbbc4",
   "metadata": {},
   "outputs": [],
   "source": [
    "try:\n",
    "    cur = conn.cursor()\n",
    "except psycopg2.Error as e:\n",
    "    print(\"Error: Couldn't get cursor to the db\")\n",
    "    print(e)"
   ]
  },
  {
   "cell_type": "code",
   "execution_count": null,
   "id": "2c222ce4",
   "metadata": {},
   "outputs": [],
   "source": [
    "# Set automatic commit to be true so that eact action is committed without having to call conn.commit() after each commit\n",
    "conn.set_session(autocommit=True)"
   ]
  },
  {
   "cell_type": "markdown",
   "id": "be10e358",
   "metadata": {},
   "source": [
    "## Create DB"
   ]
  },
  {
   "cell_type": "code",
   "execution_count": 32,
   "id": "02e016d4",
   "metadata": {},
   "outputs": [
    {
     "name": "stdout",
     "output_type": "stream",
     "text": [
      "database \"db_modelling\" already exists\n",
      "\n"
     ]
    }
   ],
   "source": [
    "try:\n",
    "    cur.execute(\"CREATE DATABASE db_modelling\")\n",
    "except psycopg2.Error as e:\n",
    "    print(e)"
   ]
  },
  {
   "cell_type": "code",
   "execution_count": 4,
   "id": "06abbac3",
   "metadata": {},
   "outputs": [],
   "source": [
    "DBNAME = \"db_modelling\""
   ]
  },
  {
   "cell_type": "markdown",
   "id": "49e7ed56",
   "metadata": {},
   "source": [
    "## Connect to the DB that just been created"
   ]
  },
  {
   "cell_type": "code",
   "execution_count": 5,
   "id": "46acc4bb",
   "metadata": {},
   "outputs": [],
   "source": [
    "try:\n",
    "    conn = psycopg2.connect(\"host={} dbname={} user={} password={}\".format(HOST, DBNAME, USER, PASSWORD))\n",
    "except psycopg2.Error as e:\n",
    "    print(\"Error: Couldn't connect to db\")\n",
    "    print(e)"
   ]
  },
  {
   "cell_type": "code",
   "execution_count": 6,
   "id": "bd20e90f",
   "metadata": {},
   "outputs": [],
   "source": [
    "# Make cursor again\n",
    "try:\n",
    "    cur = conn.cursor()\n",
    "except psycopg2.Error as e:\n",
    "    print(\"Error: Couldn't connect to db\")\n",
    "    print(e)"
   ]
  },
  {
   "cell_type": "code",
   "execution_count": 7,
   "id": "24b46b4d",
   "metadata": {},
   "outputs": [],
   "source": [
    "# Set automatic commit to be true so that eact action is committed without having to call conn.commit() after each commit\n",
    "conn.set_session(autocommit=True)"
   ]
  },
  {
   "cell_type": "markdown",
   "id": "ba2d19d5",
   "metadata": {},
   "source": [
    "## Create table for students\n",
    "student_id\n",
    "\n",
    "name\n",
    "\n",
    "age\n",
    "\n",
    "gender\n",
    "\n",
    "subject\n",
    "\n",
    "marks"
   ]
  },
  {
   "cell_type": "code",
   "execution_count": 8,
   "id": "45b27aeb",
   "metadata": {},
   "outputs": [],
   "source": [
    "try:\n",
    "    cur.execute(\"CREATE TABLE IF NOT EXISTS students (student_id int, name varchar, \\\n",
    "    age int, gender varchar, subject varchar, marks int);\")\n",
    "except psycopg2.Error as e:\n",
    "    print(\"Error: Issue creating table\")\n",
    "    print(e)"
   ]
  },
  {
   "cell_type": "markdown",
   "id": "d87fd7bd",
   "metadata": {},
   "source": [
    "## Insert the following two rows\n",
    "First row: 1, \"Naufal\", 99, \"Male\", \"Python\", 99\n",
    "\n",
    "Second row: 2, \"Aldy\", 99, \"Male\", \"Python\", 98"
   ]
  },
  {
   "cell_type": "code",
   "execution_count": 17,
   "id": "231a8f89",
   "metadata": {},
   "outputs": [],
   "source": [
    "try:\n",
    "    cur.execute(\"INSERT INTO students (student_id, name, age, gender, subject, marks) \\\n",
    "                VALUES (%s, %s, %s, %s, %s, %s)\", \\\n",
    "               (1, \"Naufal\", 99, \"Male\", \"Python\", 99))\n",
    "except psycopg2.Error as e:\n",
    "    print(\"Error: Inserting rows\")\n",
    "    print(e)"
   ]
  },
  {
   "cell_type": "code",
   "execution_count": 18,
   "id": "369d2aec",
   "metadata": {},
   "outputs": [],
   "source": [
    "try:\n",
    "    cur.execute(\"INSERT INTO students (student_id, name, age, gender, subject, marks) \\\n",
    "                VALUES (%s, %s, %s, %s, %s, %s)\", \\\n",
    "               (1, \"Aldy\", 99, \"Male\", \"Python\", 98))\n",
    "except psycopg2.Error as e:\n",
    "    print(\"Error: Inserting rows\")\n",
    "    print(e)\n"
   ]
  },
  {
   "cell_type": "markdown",
   "id": "c1288d7f",
   "metadata": {},
   "source": [
    "## Validate inseerted data"
   ]
  },
  {
   "cell_type": "code",
   "execution_count": 19,
   "id": "9192f091",
   "metadata": {},
   "outputs": [],
   "source": [
    "try:\n",
    "    cur.execute(\"SELECT * FROM students\")\n",
    "except psycopg2.Error as e:\n",
    "    print(\"Error: Get data\")\n",
    "    print(e)"
   ]
  },
  {
   "cell_type": "code",
   "execution_count": 20,
   "id": "93f7dd3e",
   "metadata": {},
   "outputs": [
    {
     "name": "stdout",
     "output_type": "stream",
     "text": [
      "(1, 'Naufal', 99, 'Male', 'Python', 99)\n",
      "(1, 'Aldy', 99, 'Male', 'Python', 98)\n"
     ]
    }
   ],
   "source": [
    "# Get the data\n",
    "row = cur.fetchone()\n",
    "while row:\n",
    "    print(row)\n",
    "    row = cur.fetchone()"
   ]
  },
  {
   "cell_type": "markdown",
   "id": "08964533",
   "metadata": {},
   "source": [
    "## Close cursor and connection"
   ]
  },
  {
   "cell_type": "code",
   "execution_count": 21,
   "id": "7089e7e7",
   "metadata": {},
   "outputs": [],
   "source": [
    "cur.close()\n",
    "conn.close()"
   ]
  }
 ],
 "metadata": {
  "kernelspec": {
   "display_name": "Python 3 (ipykernel)",
   "language": "python",
   "name": "python3"
  },
  "language_info": {
   "codemirror_mode": {
    "name": "ipython",
    "version": 3
   },
   "file_extension": ".py",
   "mimetype": "text/x-python",
   "name": "python",
   "nbconvert_exporter": "python",
   "pygments_lexer": "ipython3",
   "version": "3.9.7"
  }
 },
 "nbformat": 4,
 "nbformat_minor": 5
}
